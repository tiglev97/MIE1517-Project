{
  "nbformat": 4,
  "nbformat_minor": 0,
  "metadata": {
    "colab": {
      "provenance": []
    },
    "kernelspec": {
      "name": "python3",
      "display_name": "Python 3"
    },
    "language_info": {
      "name": "python"
    }
  },
  "cells": [
    {
      "cell_type": "code",
      "source": [
        "!apt-get install -y tesseract-ocr\n",
        "!pip install pytesseract"
      ],
      "metadata": {
        "colab": {
          "base_uri": "https://localhost:8080/"
        },
        "id": "wdhTXVmELOa5",
        "outputId": "ad2b8aba-700d-4a14-d1dd-267a000f2b29"
      },
      "execution_count": 2,
      "outputs": [
        {
          "output_type": "stream",
          "name": "stdout",
          "text": [
            "Reading package lists... Done\n",
            "Building dependency tree... Done\n",
            "Reading state information... Done\n",
            "The following additional packages will be installed:\n",
            "  tesseract-ocr-eng tesseract-ocr-osd\n",
            "The following NEW packages will be installed:\n",
            "  tesseract-ocr tesseract-ocr-eng tesseract-ocr-osd\n",
            "0 upgraded, 3 newly installed, 0 to remove and 29 not upgraded.\n",
            "Need to get 4,816 kB of archives.\n",
            "After this operation, 15.6 MB of additional disk space will be used.\n",
            "Get:1 http://archive.ubuntu.com/ubuntu jammy/universe amd64 tesseract-ocr-eng all 1:4.00~git30-7274cfa-1.1 [1,591 kB]\n",
            "Get:2 http://archive.ubuntu.com/ubuntu jammy/universe amd64 tesseract-ocr-osd all 1:4.00~git30-7274cfa-1.1 [2,990 kB]\n",
            "Get:3 http://archive.ubuntu.com/ubuntu jammy/universe amd64 tesseract-ocr amd64 4.1.1-2.1build1 [236 kB]\n",
            "Fetched 4,816 kB in 1s (5,241 kB/s)\n",
            "Selecting previously unselected package tesseract-ocr-eng.\n",
            "(Reading database ... 124947 files and directories currently installed.)\n",
            "Preparing to unpack .../tesseract-ocr-eng_1%3a4.00~git30-7274cfa-1.1_all.deb ...\n",
            "Unpacking tesseract-ocr-eng (1:4.00~git30-7274cfa-1.1) ...\n",
            "Selecting previously unselected package tesseract-ocr-osd.\n",
            "Preparing to unpack .../tesseract-ocr-osd_1%3a4.00~git30-7274cfa-1.1_all.deb ...\n",
            "Unpacking tesseract-ocr-osd (1:4.00~git30-7274cfa-1.1) ...\n",
            "Selecting previously unselected package tesseract-ocr.\n",
            "Preparing to unpack .../tesseract-ocr_4.1.1-2.1build1_amd64.deb ...\n",
            "Unpacking tesseract-ocr (4.1.1-2.1build1) ...\n",
            "Setting up tesseract-ocr-eng (1:4.00~git30-7274cfa-1.1) ...\n",
            "Setting up tesseract-ocr-osd (1:4.00~git30-7274cfa-1.1) ...\n",
            "Setting up tesseract-ocr (4.1.1-2.1build1) ...\n",
            "Processing triggers for man-db (2.10.2-1) ...\n",
            "Collecting pytesseract\n",
            "  Downloading pytesseract-0.3.13-py3-none-any.whl.metadata (11 kB)\n",
            "Requirement already satisfied: packaging>=21.3 in /usr/local/lib/python3.11/dist-packages (from pytesseract) (24.2)\n",
            "Requirement already satisfied: Pillow>=8.0.0 in /usr/local/lib/python3.11/dist-packages (from pytesseract) (11.1.0)\n",
            "Downloading pytesseract-0.3.13-py3-none-any.whl (14 kB)\n",
            "Installing collected packages: pytesseract\n",
            "Successfully installed pytesseract-0.3.13\n"
          ]
        }
      ]
    },
    {
      "cell_type": "code",
      "execution_count": 12,
      "metadata": {
        "id": "y9G797KgEman"
      },
      "outputs": [],
      "source": [
        "import zipfile\n",
        "\n",
        "#Import a bunch of useful libraries\n",
        "from PIL import Image\n",
        "import os\n",
        "import csv\n",
        "import pytesseract\n",
        "import re\n",
        "import os\n",
        "import time\n",
        "import torch.optim as optim\n",
        "from torch.autograd import Variable\n",
        "from google.colab import files\n",
        "from collections import Counter\n",
        "from datetime import datetime\n",
        "\n",
        "import argparse\n",
        "import math\n",
        "import time\n",
        "\n",
        "import matplotlib\n",
        "import matplotlib.pyplot as plt\n",
        "import numpy as np\n",
        "import numpy.random as npr\n",
        "import scipy.misc\n",
        "import torch\n",
        "import torch.nn as nn\n",
        "import torch.nn.functional as F\n",
        "from torch.autograd import Variable\n",
        "import logging\n",
        "\n",
        "import json\n",
        "import pandas as pd"
      ]
    },
    {
      "cell_type": "code",
      "source": [
        "#Tesseract path\n",
        "pytesseract.pytesseract.tesseract_cmd = \"/usr/bin/tesseract\""
      ],
      "metadata": {
        "id": "kqXQ3eOGLVaw"
      },
      "execution_count": 4,
      "outputs": []
    },
    {
      "cell_type": "code",
      "source": [
        "zip_path = '/content/valid_receipts_zip.zip'\n",
        "\n",
        "if zipfile.is_zipfile(zip_path):\n",
        "    print(\"The file is a valid ZIP.\")\n",
        "else:\n",
        "    print(\"The file is not a valid ZIP (possibly corrupted or wrong format).\")\n",
        "\n",
        "assert zipfile.is_zipfile(zip_path)"
      ],
      "metadata": {
        "colab": {
          "base_uri": "https://localhost:8080/"
        },
        "id": "1Z28nweiFj35",
        "outputId": "899c272c-0c8d-43fb-ccad-8cd4c9512abf"
      },
      "execution_count": 5,
      "outputs": [
        {
          "output_type": "stream",
          "name": "stdout",
          "text": [
            "The file is a valid ZIP.\n"
          ]
        }
      ]
    },
    {
      "cell_type": "code",
      "source": [
        "\n",
        "extract_folder = '/content/valid_receipts'\n",
        "os.makedirs(extract_folder, exist_ok=True)\n",
        "\n",
        "with zipfile.ZipFile(zip_path, 'r') as zip_ref:\n",
        "    zip_ref.extractall(extract_folder)"
      ],
      "metadata": {
        "id": "TvvgA084F1rx"
      },
      "execution_count": 6,
      "outputs": []
    },
    {
      "cell_type": "code",
      "source": [
        "receipts_folder = \"/content/valid_receipts/valid_receipts\"\n",
        "output_csv = \"extracted_receipts.csv\"\n",
        "cleaned_csv = \"cleaned_receipts.csv\""
      ],
      "metadata": {
        "id": "NS9r3z09JaAO"
      },
      "execution_count": 20,
      "outputs": []
    },
    {
      "cell_type": "code",
      "source": [
        "def extract_text_from_image(image_path):\n",
        "    \"\"\"Extract text from an image using Tesseract OCR.\"\"\"\n",
        "    image = Image.open(image_path)\n",
        "    text = pytesseract.image_to_string(image)\n",
        "    return text"
      ],
      "metadata": {
        "id": "ATnzdahnKHeK"
      },
      "execution_count": 8,
      "outputs": []
    },
    {
      "cell_type": "code",
      "source": [
        "def parse_receipt_text(text):\n",
        "    \"\"\"Extract date, items, and prices from receipt text using regex.\"\"\"\n",
        "    # Extract date (handles formats like 10/02/14 or 2024-03-09)\n",
        "    date_patterns = [\n",
        "        r'\\b(\\d{2})[\\/\\-](\\d{2})[\\/\\-](\\d{2,4})\\b',  # Matches DD/MM/YY or MM/DD/YY\n",
        "        r'\\b(\\d{4})[\\/\\-](\\d{2})[\\/\\-](\\d{2})\\b'  # Matches YYYY-MM-DD\n",
        "    ]\n",
        "    date = \"Unknown\"\n",
        "\n",
        "    for pattern in date_patterns:\n",
        "        match = re.search(pattern, text)\n",
        "        if match:\n",
        "            groups = match.groups()\n",
        "            if len(groups) == 3:\n",
        "                day, month, year = groups\n",
        "                if len(year) == 2:\n",
        "                    year = \"20\" + year  # Assuming receipts are from 2000 onwards\n",
        "                try:\n",
        "                    date = datetime.strptime(f\"{year}-{month}-{day}\", \"%Y-%m-%d\").strftime(\"%Y-%m-%d\")\n",
        "                    break\n",
        "                except ValueError:\n",
        "                    continue\n",
        "\n",
        "    # Extract item names and prices\n",
        "    item_price_pattern = r'([A-Za-z0-9 &]+)\\s+(\\d+\\.\\d{2})'\n",
        "    matches = re.findall(item_price_pattern, text)\n",
        "\n",
        "    structured_data = []\n",
        "    for match in matches:\n",
        "        item, price = match\n",
        "        structured_data.append({\"date\": date, \"item\": item.strip(), \"price\": price})\n",
        "\n",
        "    return structured_data"
      ],
      "metadata": {
        "id": "1F2tz9JKKbyY"
      },
      "execution_count": 9,
      "outputs": []
    },
    {
      "cell_type": "code",
      "source": [
        "def process_receipts():\n",
        "    \"\"\"Extracts and saves receipt details in a CSV file.\"\"\"\n",
        "    with open(output_csv, mode=\"w\", newline=\"\") as file:\n",
        "        writer = csv.writer(file)\n",
        "        writer.writerow([\"date\", \"item\", \"price\"])\n",
        "\n",
        "        i = 1\n",
        "\n",
        "        for filename in os.listdir(receipts_folder):\n",
        "            print('Processing receipt: ' + str(i))\n",
        "            if filename.lower().endswith(('.png', '.jpg', '.jpeg', '.tiff', '.bmp', '.pdf')):\n",
        "                image_path = os.path.join(receipts_folder, filename)\n",
        "                text = extract_text_from_image(image_path)\n",
        "                structured_data = parse_receipt_text(text)\n",
        "\n",
        "                i += 1\n",
        "\n",
        "                for entry in structured_data:\n",
        "                    writer.writerow([entry[\"date\"], entry[\"item\"], entry[\"price\"]])\n",
        "    print(f\"Extraction completed. Data saved to {output_csv}\")"
      ],
      "metadata": {
        "id": "9GB1SN68KjkF"
      },
      "execution_count": 10,
      "outputs": []
    },
    {
      "cell_type": "code",
      "source": [
        "process_receipts()"
      ],
      "metadata": {
        "colab": {
          "base_uri": "https://localhost:8080/"
        },
        "id": "fNDOChFoK1kH",
        "outputId": "0b066677-ed3c-4cbb-c5e7-a54308414e80"
      },
      "execution_count": 11,
      "outputs": [
        {
          "output_type": "stream",
          "name": "stdout",
          "text": [
            "Processing receipt: 1\n",
            "Processing receipt: 2\n",
            "Processing receipt: 3\n",
            "Processing receipt: 4\n",
            "Processing receipt: 5\n",
            "Processing receipt: 6\n",
            "Processing receipt: 7\n",
            "Processing receipt: 8\n",
            "Processing receipt: 9\n",
            "Processing receipt: 10\n",
            "Processing receipt: 11\n",
            "Processing receipt: 12\n",
            "Processing receipt: 13\n",
            "Processing receipt: 14\n",
            "Processing receipt: 15\n",
            "Processing receipt: 16\n",
            "Processing receipt: 17\n",
            "Processing receipt: 18\n",
            "Processing receipt: 19\n",
            "Processing receipt: 20\n",
            "Processing receipt: 21\n",
            "Processing receipt: 22\n",
            "Processing receipt: 23\n",
            "Processing receipt: 24\n",
            "Processing receipt: 25\n",
            "Processing receipt: 26\n",
            "Processing receipt: 27\n",
            "Processing receipt: 28\n",
            "Processing receipt: 29\n",
            "Processing receipt: 30\n",
            "Processing receipt: 31\n",
            "Processing receipt: 32\n",
            "Processing receipt: 33\n",
            "Processing receipt: 34\n",
            "Processing receipt: 35\n",
            "Processing receipt: 36\n",
            "Processing receipt: 37\n",
            "Processing receipt: 38\n",
            "Processing receipt: 39\n",
            "Processing receipt: 40\n",
            "Processing receipt: 41\n",
            "Processing receipt: 42\n",
            "Processing receipt: 43\n",
            "Processing receipt: 44\n",
            "Processing receipt: 45\n",
            "Processing receipt: 46\n",
            "Processing receipt: 47\n",
            "Processing receipt: 48\n",
            "Processing receipt: 49\n",
            "Processing receipt: 50\n",
            "Processing receipt: 51\n",
            "Processing receipt: 52\n",
            "Processing receipt: 53\n",
            "Processing receipt: 54\n",
            "Processing receipt: 55\n",
            "Processing receipt: 56\n",
            "Processing receipt: 57\n",
            "Processing receipt: 58\n",
            "Processing receipt: 59\n",
            "Processing receipt: 60\n",
            "Processing receipt: 61\n",
            "Processing receipt: 62\n",
            "Processing receipt: 63\n",
            "Processing receipt: 64\n",
            "Processing receipt: 65\n",
            "Processing receipt: 66\n",
            "Processing receipt: 67\n",
            "Processing receipt: 68\n",
            "Processing receipt: 69\n",
            "Processing receipt: 70\n",
            "Processing receipt: 71\n",
            "Processing receipt: 72\n",
            "Processing receipt: 73\n",
            "Processing receipt: 74\n",
            "Processing receipt: 75\n",
            "Processing receipt: 76\n",
            "Processing receipt: 77\n",
            "Processing receipt: 78\n",
            "Processing receipt: 79\n",
            "Processing receipt: 80\n",
            "Processing receipt: 81\n",
            "Processing receipt: 82\n",
            "Processing receipt: 83\n",
            "Processing receipt: 84\n",
            "Processing receipt: 85\n",
            "Processing receipt: 86\n",
            "Processing receipt: 87\n",
            "Processing receipt: 88\n",
            "Processing receipt: 89\n",
            "Processing receipt: 90\n",
            "Processing receipt: 91\n",
            "Processing receipt: 92\n",
            "Processing receipt: 93\n",
            "Processing receipt: 94\n",
            "Processing receipt: 95\n",
            "Processing receipt: 96\n",
            "Processing receipt: 97\n",
            "Processing receipt: 98\n",
            "Processing receipt: 99\n",
            "Processing receipt: 100\n",
            "Processing receipt: 101\n",
            "Extraction completed. Data saved to extracted_receipts.csv\n"
          ]
        }
      ]
    },
    {
      "cell_type": "code",
      "source": [
        "\n",
        "\n",
        "# List of forbidden words\n",
        "forbidden_words = ['Total', 'TAX', 'SUBTOTAL', 'BTOTAL', 'TOTAL', 'subtotal', 'total', 'Tax', 'tax', \"\", 'TOTAL TAX', 'TOTA', 'CASH', 'Debit Tend', 'Debit', 'Please Come', 'Transaction', 'Change Due', 'CAHNGE', 'Cashless', 'TRANSACTION AMOUNT', 'STOTAL', 'PAYMENT', 'SALES TAX', 'SALES TAX AMOUNT', 'VISA', 'DEBIT TEND', 'TAX 1', 'CHANGE CASH']\n",
        "\n",
        "# Convert forbidden words to lowercase for case-insensitive comparison\n",
        "forbidden_words = [word.lower() for word in forbidden_words]\n",
        "\n",
        "# Read the CSV file into a pandas DataFrame\n",
        "df = pd.read_csv(output_csv)\n",
        "\n",
        "# Check the structure of the DataFrame to ensure it's loaded correctly\n",
        "print(df.head())\n",
        "\n",
        "# Filter out rows where the 'item' column contains any forbidden word\n",
        "# We also handle empty or NaN values in 'item' column\n",
        "df_cleaned = df[~df['item'].apply(lambda x: any(word in str(x).lower() for word in forbidden_words) if pd.notnull(x) else False)]\n",
        "\n",
        "# Check if rows are being dropped by checking the shape before and after filtering\n",
        "print(f\"Original DataFrame shape: {df.shape}\")\n",
        "print(f\"Filtered DataFrame shape: {df_cleaned.shape}\")\n",
        "\n",
        "# Save the cleaned DataFrame to a new CSV file\n",
        "df_cleaned.to_csv('cleaned_csv.csv', index=False)\n",
        "\n",
        "# Print the cleaned DataFrame (optional)\n",
        "print(df_cleaned.head())\n"
      ],
      "metadata": {
        "colab": {
          "base_uri": "https://localhost:8080/"
        },
        "id": "ZbY5Nnygaptb",
        "outputId": "e0591ea0-9fff-4748-98fc-42d3475754ae"
      },
      "execution_count": 29,
      "outputs": [
        {
          "output_type": "stream",
          "name": "stdout",
          "text": [
            "      date                      item  price\n",
            "0  Unknown                xKSWTR4OPK   6.79\n",
            "1  Unknown  F 9600000000 HI BEVERAGE   2.40\n",
            "2  Unknown      1356881 YOUTH SNORKE  29.99\n",
            "3  Unknown           2622016 SNORKEL  36.99\n",
            "4  Unknown        547591 HH TIARE 12  36.99\n",
            "Original DataFrame shape: (268, 3)\n",
            "Filtered DataFrame shape: (1, 3)\n",
            "       date item  price\n",
            "33  Unknown  NaN    5.0\n"
          ]
        }
      ]
    },
    {
      "cell_type": "code",
      "source": [
        "#Data cleaning\n",
        "forbidden_words = ['Total', 'TAX', 'SUBTOTAL', 'DEBIT PAY FROM PRIMARY', '1767 DEBIT TOTAL PAYMEN' , 'DEBIT LOAD', 'BTOTAL', 'TOTAL', 'subtotal', 'total', 'Tax', 'tax', \"\", 'TOTAL TAX', 'TOTA', 'CASH', 'Debit Tend', 'Debit', 'Please Come', 'Transaction', 'Cash Rounding' ,'Change Due', 'CHANGE', 'Cashless', 'TRANSACTION AMOUNT', 'STOTAL', 'PAYMENT', 'SALES TAX', 'SALES TAX AMOUNT', 'VISA', 'DEBIT TEND', 'TAX 1', 'CHANGE CASH', 'Please Come Again' , 'DEBIT et' , '\tEFT DEBIT PAY FROM PRIMARY']\n",
        "\n",
        "forbidden_words_lower = [word.lower() for word in forbidden_words]\n",
        "print(forbidden_words_lower)\n",
        "\n",
        "df = pd.read_csv(output_csv)\n",
        "\n",
        "for index, row in df.iterrows():\n",
        "  line = str(row['item'])\n",
        "  line = line.lower()\n",
        "\n",
        "  if line in forbidden_words_lower:\n",
        "    df.drop(index, inplace=True)\n",
        "\n",
        "df.to_csv('cleaned_csv.csv', index=False)"
      ],
      "metadata": {
        "colab": {
          "base_uri": "https://localhost:8080/"
        },
        "id": "qpx-IgBgg1tv",
        "outputId": "218c76d3-5c16-4bc7-dd92-26fce3b671f9"
      },
      "execution_count": 40,
      "outputs": [
        {
          "output_type": "stream",
          "name": "stdout",
          "text": [
            "['total', 'tax', 'subtotal', 'debit pay from primary', '1767 debit total paymen', 'debit load', 'btotal', 'total', 'subtotal', 'total', 'tax', 'tax', '', 'total tax', 'tota', 'cash', 'debit tend', 'debit', 'please come', 'transaction', 'cash rounding', 'change due', 'change', 'cashless', 'transaction amount', 'stotal', 'payment', 'sales tax', 'sales tax amount', 'visa', 'debit tend', 'tax 1', 'change cash', 'please come again', 'debit et', '\\teft debit pay from primary']\n"
          ]
        }
      ]
    }
  ]
}