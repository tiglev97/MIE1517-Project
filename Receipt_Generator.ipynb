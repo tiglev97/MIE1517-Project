{
  "nbformat": 4,
  "nbformat_minor": 0,
  "metadata": {
    "colab": {
      "provenance": []
    },
    "kernelspec": {
      "name": "python3",
      "display_name": "Python 3"
    },
    "language_info": {
      "name": "python"
    }
  },
  "cells": [
    {
      "cell_type": "code",
      "source": [
        "!pip install pillow faker"
      ],
      "metadata": {
        "colab": {
          "base_uri": "https://localhost:8080/"
        },
        "id": "0WyjJTyGMZ_P",
        "outputId": "932a5b95-6616-4c2d-ddb2-4d6718374481"
      },
      "execution_count": null,
      "outputs": [
        {
          "output_type": "stream",
          "name": "stdout",
          "text": [
            "Requirement already satisfied: pillow in /usr/local/lib/python3.11/dist-packages (11.1.0)\n",
            "Collecting faker\n",
            "  Downloading Faker-36.1.1-py3-none-any.whl.metadata (15 kB)\n",
            "Requirement already satisfied: tzdata in /usr/local/lib/python3.11/dist-packages (from faker) (2025.1)\n",
            "Downloading Faker-36.1.1-py3-none-any.whl (1.9 MB)\n",
            "\u001b[2K   \u001b[90m━━━━━━━━━━━━━━━━━━━━━━━━━━━━━━━━━━━━━━━━\u001b[0m \u001b[32m1.9/1.9 MB\u001b[0m \u001b[31m16.0 MB/s\u001b[0m eta \u001b[36m0:00:00\u001b[0m\n",
            "\u001b[?25hInstalling collected packages: faker\n",
            "Successfully installed faker-36.1.1\n"
          ]
        }
      ]
    },
    {
      "cell_type": "code",
      "source": [
        "from PIL import Image, ImageDraw, ImageFont\n",
        "import random\n",
        "import textwrap\n",
        "import os\n",
        "from IPython.display import display\n",
        "from torchvision.transforms import v2 as tvt"
      ],
      "metadata": {
        "id": "ETReLN2mMlwN"
      },
      "execution_count": 1,
      "outputs": []
    },
    {
      "cell_type": "code",
      "source": [
        "from typing import ItemsView\n",
        "def generate_receipt(store_name, items, total, output_path):\n",
        "    width, height = 400, 600\n",
        "    image = Image.new(\"RGB\", (width, height), (250,250,250))\n",
        "    draw = ImageDraw.Draw(image)\n",
        "\n",
        "    try:\n",
        "        font = ImageFont.truetype(\"arial.ttf\", 16)\n",
        "    except:\n",
        "        font = ImageFont.load_default()\n",
        "\n",
        "    y = 20\n",
        "    draw.text((20, y), store_name, font=font, fill=\"black\")\n",
        "    y += 30\n",
        "    draw.text((20, y), \"--------------------------\", font=font, fill=\"black\")\n",
        "    y += 20\n",
        "\n",
        "    for item, price in items:\n",
        "        wrapped_text = textwrap.wrap(item, width=25)\n",
        "        for line in wrapped_text:\n",
        "            draw.text((20, y), line, font=font, fill=\"black\")\n",
        "            y += 20\n",
        "        draw.text((300, y - 20), f\"${price:.2f}\", font=font, fill=\"black\")\n",
        "\n",
        "    y += 20\n",
        "    draw.text((20, y), \"--------------------------\", font=font, fill=\"black\")\n",
        "    y += 20\n",
        "    draw.text((20, y), f\"Total: ${total:.2f}\", font=font, fill=\"black\")\n",
        "\n",
        "    image = augment_img(image,1)\n",
        "\n",
        "    image.save(output_path)\n",
        "    return image"
      ],
      "metadata": {
        "id": "a2E9xQ_zMbfw"
      },
      "execution_count": 16,
      "outputs": []
    },
    {
      "cell_type": "code",
      "source": [
        "def create_random_receipt(output_folder=\"receipts\", number=0):\n",
        "    businesses = {\n",
        "        \"Retail Stores\": [\"Walmart\", \"Target\", \"Best Buy\", \"IKEA\", \"GameStop\"],\n",
        "        \"Grocery Stores\": [\"Costco\", \"Trader Joe's\", \"Whole Foods\", \"Loblaws\"],\n",
        "        \"Fast Food Chains\": [\"McDonald's\", \"Burger King\", \"Subway\", \"KFC\"],\n",
        "        \"Restaurants\": [\"Olive Garden\", \"Red Lobster\", \"Applebee's\"],\n",
        "        \"Bars & Cafés\": [\"Starbucks\", \"Tim Hortons\", \"Dunkin’ Donuts\"],\n",
        "        \"Cinemas\": [\"Cineplex\", \"AMC Theatres\", \"Regal Cinemas\"],\n",
        "        \"Gas Stations\": [\"Shell\", \"Esso\", \"Chevron\"],\n",
        "        \"Tech Stores\": [\"Apple Store\", \"Microsoft Store\", \"Samsung Store\"],\n",
        "        \"Pharmacies\": [\"CVS\", \"Walgreens\", \"Shoppers Drug Mart\"],\n",
        "        \"Hotels & Travel\": [\"Marriott\", \"Hilton\", \"Uber\", \"Lyft\", \"Airbnb\"],\n",
        "        \"Pet Stores\": [\"PetSmart\", \"Petco\"],\n",
        "    }\n",
        "\n",
        "    item_catalog = {\n",
        "        \"Retail Stores\": [\"Laptop\", \"Smartphone\", \"Headphones\", \"Gaming Console\"],\n",
        "        \"Grocery Stores\": [\"Milk\", \"Bread\", \"Cheese\", \"Chicken Breast\"],\n",
        "        \"Fast Food Chains\": [\"Big Mac\", \"Fries\", \"Soft Drink\", \"Chicken Nuggets\"],\n",
        "        \"Restaurants\": [\"Steak Dinner\", \"Pasta Alfredo\", \"Caesar Salad\"],\n",
        "        \"Bars & Cafés\": [\"Latte\", \"Cappuccino\", \"Beer Pint\", \"Muffin\"],\n",
        "        \"Cinemas\": [\"Movie Ticket\", \"Popcorn\", \"Soft Drink\", \"Nachos\"],\n",
        "        \"Gas Stations\": [\"Gasoline (Liters)\", \"Car Wash\", \"Motor Oil\"],\n",
        "        \"Tech Stores\": [\"MacBook\", \"iPhone\", \"Wireless Mouse\"],\n",
        "        \"Pharmacies\": [\"Pain Reliever\", \"Cough Syrup\", \"Vitamins\"],\n",
        "        \"Hotels & Travel\": [\"Hotel Stay\", \"Taxi Ride\", \"Baggage Fee\"],\n",
        "        \"Pet Stores\": [\"Dog Food\", \"Cat Litter\", \"Pet Shampoo\"],\n",
        "    }\n",
        "\n",
        "    category = random.choice(list(businesses.keys()))\n",
        "    store_name = random.choice(businesses[category])\n",
        "    items = random.choices(item_catalog[category], k=random.randint(2, 20))\n",
        "\n",
        "    item_prices = [(item, round(random.uniform(3, 150), 2)) for item in items]\n",
        "    total = sum(price for _, price in item_prices)\n",
        "\n",
        "    if not os.path.exists(output_folder):\n",
        "        os.makedirs(output_folder)\n",
        "\n",
        "    receipt_name = f\"{str(number).replace(' ', '_')}_receipt.png\"\n",
        "    output_path = os.path.join(output_folder, receipt_name)\n",
        "    return generate_receipt(store_name, item_prices, total, output_path), len(item_prices)"
      ],
      "metadata": {
        "id": "yY8a6JoYMryd"
      },
      "execution_count": 15,
      "outputs": []
    },
    {
      "cell_type": "code",
      "source": [
        "def augment_img(img,p):\n",
        "  trans1 = tvt.RandomApply(transforms=[tvt.ElasticTransform(alpha=random.randint(20,25)),\n",
        "                                    tvt.GaussianBlur(kernel_size=(5,9),sigma=(0.1,1)),\n",
        "                                    ], p=p)\n",
        "  trans2 = tvt.RandomPerspective(distortion_scale=0.3,p=1,fill=random.randint(0,255))\n",
        "  return trans2(trans1(img))"
      ],
      "metadata": {
        "id": "5FxU8ahj7T9c"
      },
      "execution_count": 4,
      "outputs": []
    },
    {
      "cell_type": "code",
      "source": [
        "#### Generate Receipt dataset of any size\n",
        "num_receipts = 10\n",
        "total_items = 0\n",
        "for i in range(num_receipts):\n",
        "  receipt_image, num_items = create_random_receipt(number=i)\n",
        "  total_items += num_items\n",
        "print(total_items)"
      ],
      "metadata": {
        "colab": {
          "base_uri": "https://localhost:8080/"
        },
        "id": "xByZuTp6267_",
        "outputId": "bb69c442-a619-4f01-e0e7-d3db07daad51"
      },
      "execution_count": 20,
      "outputs": [
        {
          "output_type": "stream",
          "name": "stdout",
          "text": [
            "138\n"
          ]
        }
      ]
    }
  ]
}